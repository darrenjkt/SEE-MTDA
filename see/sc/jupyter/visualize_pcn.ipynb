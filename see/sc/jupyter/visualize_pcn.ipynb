{
 "cells": [
  {
   "cell_type": "code",
   "execution_count": 2,
   "id": "f09ef2ad",
   "metadata": {},
   "outputs": [
    {
     "name": "stdout",
     "output_type": "stream",
     "text": [
      "2401\n"
     ]
    }
   ],
   "source": [
    "import open3d as o3d\n",
    "import glob\n",
    "\n",
    "data_dir = '/SEE-MTDA/data/kitti/pcn'\n",
    "completed = glob.glob(f'{data_dir}/completions_300000/*.pcd')\n",
    "# completed = glob.glob(f'{data_dir}/completions_pretrained/*.pcd')\n",
    "# completed = glob.glob(f'{data_dir}/completions/*.pcd')\n",
    "print(len(completed))"
   ]
  },
  {
   "cell_type": "code",
   "execution_count": 9,
   "id": "b03e1397",
   "metadata": {},
   "outputs": [],
   "source": [
    "i = 5\n",
    "fname = completed[i].split('/')[-1]\n",
    "input_fname = f'{data_dir}/cars/{fname}'\n",
    "\n",
    "completed_pcd = o3d.io.read_point_cloud(completed[i])\n",
    "completed_pcd.paint_uniform_color([0.85, 0.85, 0.85])\n",
    "input_pcd = o3d.io.read_point_cloud(input_fname)\n",
    "o3d.visualization.draw_geometries([input_pcd, completed_pcd])"
   ]
  },
  {
   "cell_type": "code",
   "execution_count": null,
   "id": "858f221b",
   "metadata": {},
   "outputs": [],
   "source": []
  }
 ],
 "metadata": {
  "kernelspec": {
   "display_name": "Python 3 (ipykernel)",
   "language": "python",
   "name": "python3"
  },
  "language_info": {
   "codemirror_mode": {
    "name": "ipython",
    "version": 3
   },
   "file_extension": ".py",
   "mimetype": "text/x-python",
   "name": "python",
   "nbconvert_exporter": "python",
   "pygments_lexer": "ipython3",
   "version": "3.7.7"
  }
 },
 "nbformat": 4,
 "nbformat_minor": 5
}

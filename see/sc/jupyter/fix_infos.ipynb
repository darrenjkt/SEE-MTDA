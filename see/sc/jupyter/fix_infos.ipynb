{
 "cells": [
  {
   "cell_type": "code",
   "execution_count": 104,
   "id": "8911a1f1",
   "metadata": {},
   "outputs": [],
   "source": [
    "import numpy as np\n",
    "import open3d as o3d\n",
    "\n",
    "def populate_gtboxes(sample_infos, dataset_name, classes, add_ground_lift=False):\n",
    "    if dataset_name == 'nuscenes':\n",
    "        zip_infos = zip(sample_infos['gt_boxes'], sample_infos['gt_names'], sample_infos['num_lidar_pts'])\n",
    "    elif dataset_name in ['kitti', 'waymo','baraja']:\n",
    "        anno = sample_infos['annos']\n",
    "        annos_name = [name for name in anno['name']]\n",
    "        zip_infos = zip(anno['gt_boxes_lidar'], annos_name, anno['num_points_in_gt'])\n",
    "    else: \n",
    "        print(f\"{dataset_name} is an unsupported dataset\")\n",
    "        return None\n",
    "\n",
    "    pcd_gtboxes = {}        \n",
    "    pcd_gtboxes['gt_boxes'], pcd_gtboxes['num_lidar_pts'], pcd_gtboxes['xyzlwhry_gt_boxes'] = [], [], []\n",
    "    for idx, gt_anno in enumerate(zip_infos):\n",
    "        bbox_corners, num_pts, xyzlwhry_bbox = get_o3dbox(gt_anno, classes=classes) \n",
    "        if bbox_corners != None:\n",
    "            if add_ground_lift:\n",
    "                bbox_corners.center = bbox_corners.center + [0,0,0.2] # Add 20cm to box centroid z-axis to get rid of the ground plane\n",
    "            pcd_gtboxes['gt_boxes'].append(bbox_corners)\n",
    "            pcd_gtboxes['num_lidar_pts'].append(num_pts)\n",
    "            pcd_gtboxes['xyzlwhry_gt_boxes'].append(xyzlwhry_bbox)\n",
    "\n",
    "    return pcd_gtboxes   \n",
    "\n",
    "def get_o3dbox(anno_info, classes):\n",
    "    \"\"\"\n",
    "    Convert from gt_boxes in the format [x,y,z,l,w,h,ry] to open3d oriented bbox\n",
    "    which can then be used to crop a pointcloud\n",
    "    \"\"\"\n",
    "\n",
    "    gt_box, class_name, num_lidar_pts = anno_info\n",
    "    box_corners, r_mat = gtbox_to_corners(gt_box)\n",
    "    boxpts = o3d.utility.Vector3dVector(box_corners)\n",
    "    o3dbox = o3d.geometry.OrientedBoundingBox().create_from_points(boxpts)\n",
    "    o3dbox.color = np.array([1,0,0])\n",
    "    o3dbox.center = gt_box[0:3]\n",
    "    o3dbox.R = r_mat\n",
    "    return o3dbox, num_lidar_pts, gt_box\n",
    "\n",
    "def gtbox_to_corners(box):\n",
    "    \"\"\"\n",
    "    Takes an array containing [x,y,z,l,w,h,r], and returns an [8, 3] matrix that \n",
    "    represents the [x, y, z] for each 8 corners of the box.\n",
    "    \n",
    "    Note: Openpcdet __getitem__ gt_boxes are in the format [x,y,z,l,w,h,r,alpha]\n",
    "    where alpha is \"observation angle of object, ranging [-pi..pi]\"\n",
    "    \"\"\"\n",
    "    # To return\n",
    "    corner_boxes = np.zeros((8, 3))\n",
    "\n",
    "    translation = box[0:3]\n",
    "    l, w, h = box[3], box[4], box[5] # waymo, nusc, kitti is all l,w,h after OpenPCDet processing\n",
    "    rotation = box[6]\n",
    "\n",
    "    # Create a bounding box outline\n",
    "    bounding_box = np.array([\n",
    "        [-l/2, -l/2, l/2, l/2, -l/2, -l/2, l/2, l/2],\n",
    "        [w/2, -w/2, -w/2, w/2, w/2, -w/2, -w/2, w/2],\n",
    "        [-h/2, -h/2, -h/2, -h/2, h/2, h/2, h/2, h/2]])\n",
    "\n",
    "    # Standard 3x3 rotation matrix around the Z axis\n",
    "    rotation_matrix = np.array([\n",
    "        [np.cos(rotation), -np.sin(rotation), 0.0],\n",
    "        [np.sin(rotation), np.cos(rotation), 0.0],\n",
    "        [0.0, 0.0, 1.0]])\n",
    "\n",
    "    return bounding_box.transpose(), rotation_matrix\n",
    "\n",
    "def convert_to_o3dpcd(points):\n",
    "    if type(points) == list:\n",
    "        pcds = []\n",
    "        for pointcloud in points:\n",
    "            pcd = o3d.geometry.PointCloud()\n",
    "            pcd.points = o3d.utility.Vector3dVector(pointcloud[:,:3])\n",
    "            pcds.append(pcd)\n",
    "        return pcds\n",
    "    else:\n",
    "        pcd = o3d.geometry.PointCloud()\n",
    "        pcd.points = o3d.utility.Vector3dVector(points[:,:3])\n",
    "        return pcd\n"
   ]
  },
  {
   "cell_type": "code",
   "execution_count": 105,
   "id": "dcf71ca5",
   "metadata": {},
   "outputs": [],
   "source": [
    "import pickle\n",
    "\n",
    "fname = '/SEE-MTDA/data/nuscenes/custom_t4025-v3980/infos_meshednusc_GTBOX_MESH_MINPT60_MINUSCROPPED/nuscenes_infos_2sweeps_train_old.pkl'\n",
    "with open(fname, 'rb') as f:\n",
    "    mydata = pickle.load(f)"
   ]
  },
  {
   "cell_type": "code",
   "execution_count": 107,
   "id": "5179fe5e",
   "metadata": {},
   "outputs": [
    {
     "name": "stderr",
     "output_type": "stream",
     "text": [
      "100%|███████████████████████████████████████████| 4025/4025 [04:10<00:00, 16.08it/s]\n"
     ]
    }
   ],
   "source": [
    "from tqdm import tqdm \n",
    "\n",
    "data_path = '/SEE-MTDA/data/nuscenes/custom_t4025-v3980/'\n",
    "new_pkl = []\n",
    "\n",
    "for idx, sample_infos in tqdm(enumerate(mydata), total=len(mydata)):\n",
    "    data_pkl = sample_infos.copy()\n",
    "    pcd_gtboxes = populate_gtboxes(sample_infos, 'nuscenes', 'car', add_ground_lift=False)        \n",
    "    \n",
    "    pc = np.fromfile(data_path + sample_infos['lidar_path'], dtype=np.float32).reshape((-1,5))[:,:3]\n",
    "    meshed_pc = o3d.io.read_point_cloud(data_path + sample_infos['meshed_lidar_path'])\n",
    "    o3dpcd = convert_to_o3dpcd(pc)\n",
    "    \n",
    "    data_pkl['num_meshed_lidar_pts'] = []\n",
    "    print(\"len(mydata[23]['gt_boxes']) = \", len(sample_infos['gt_boxes']))\n",
    "    print(\"len(pcd_gtboxes['gt_boxes']) = \", len(pcd_gtboxes['gt_boxes']))\n",
    "    for gtbox in pcd_gtboxes['gt_boxes']:\n",
    "        car = meshed_pc.crop(gtbox)\n",
    "        data_pkl['num_meshed_lidar_pts'].append(len(car.points))\n",
    "    \n",
    "    data_pkl['num_meshed_lidar_pts'] = np.array(data_pkl['num_meshed_lidar_pts'])\n",
    "        \n",
    "    new_pkl.append(data_pkl)"
   ]
  },
  {
   "cell_type": "code",
   "execution_count": 108,
   "id": "c14f5d04",
   "metadata": {},
   "outputs": [
    {
     "data": {
      "text/plain": [
       "56"
      ]
     },
     "execution_count": 108,
     "metadata": {},
     "output_type": "execute_result"
    }
   ],
   "source": [
    "len(new_pkl[23]['gt_names'])"
   ]
  },
  {
   "cell_type": "code",
   "execution_count": 109,
   "id": "597139be",
   "metadata": {},
   "outputs": [
    {
     "data": {
      "text/plain": [
       "56"
      ]
     },
     "execution_count": 109,
     "metadata": {},
     "output_type": "execute_result"
    }
   ],
   "source": [
    "len(new_pkl[23]['num_meshed_lidar_pts'])"
   ]
  },
  {
   "cell_type": "code",
   "execution_count": 113,
   "id": "24133cd8",
   "metadata": {},
   "outputs": [],
   "source": [
    "save_fname = '/SEE-MTDA/data/nuscenes/custom_t4025-v3980/infos_meshednusc_GTBOX_MESH_MINPT60_MINUSCROPPED/nuscenes_infos_2sweeps_train.pkl'\n",
    "with open(save_fname, 'wb') as f:\n",
    "    pickle.dump(new_pkl, f)"
   ]
  },
  {
   "cell_type": "code",
   "execution_count": 114,
   "id": "09c6b935",
   "metadata": {},
   "outputs": [],
   "source": [
    "import pickle\n",
    "\n",
    "fname = '/SEE-MTDA/data/nuscenes/custom_t4025-v3980/infos_meshednusc_GTBOX_MESH_MINPT60_MINUSCROPPED/nuscenes_infos_2sweeps_train.pkl'\n",
    "with open(fname, 'rb') as f:\n",
    "    mydata2 = pickle.load(f)"
   ]
  },
  {
   "cell_type": "code",
   "execution_count": 116,
   "id": "ac57401a",
   "metadata": {},
   "outputs": [
    {
     "data": {
      "text/plain": [
       "56"
      ]
     },
     "execution_count": 116,
     "metadata": {},
     "output_type": "execute_result"
    }
   ],
   "source": [
    "len(mydata2[23]['gt_names'])"
   ]
  },
  {
   "cell_type": "code",
   "execution_count": null,
   "id": "0b256859",
   "metadata": {},
   "outputs": [],
   "source": []
  }
 ],
 "metadata": {
  "kernelspec": {
   "display_name": "Python 3 (ipykernel)",
   "language": "python",
   "name": "python3"
  },
  "language_info": {
   "codemirror_mode": {
    "name": "ipython",
    "version": 3
   },
   "file_extension": ".py",
   "mimetype": "text/x-python",
   "name": "python",
   "nbconvert_exporter": "python",
   "pygments_lexer": "ipython3",
   "version": "3.8.5"
  }
 },
 "nbformat": 4,
 "nbformat_minor": 5
}
